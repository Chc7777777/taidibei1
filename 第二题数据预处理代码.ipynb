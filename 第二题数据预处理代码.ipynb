{
 "cells": [
  {
   "cell_type": "code",
   "execution_count": 1,
   "metadata": {},
   "outputs": [],
   "source": [
    "import pandas as pd\n",
    "import numpy as np\n",
    "from chinese_calendar import is_workday"
   ]
  },
  {
   "cell_type": "code",
   "execution_count": 2,
   "metadata": {},
   "outputs": [],
   "source": [
    "data_first = pd.read_csv('./order_train1.csv')\n",
    "data_first=data_first.drop_duplicates(keep='first')"
   ]
  },
  {
   "cell_type": "code",
   "execution_count": 3,
   "metadata": {},
   "outputs": [],
   "source": [
    "def set_index(data_first):\n",
    "    data_second = data_first.iloc[:,:]\n",
    "    data_second=data_second.rename(columns={'order_date':'订单日期','sales_region_code':'销售区域编码','item_code':'产品编码',\n",
    "                                           'first_cate_code':'产品大类编码','second_cate_code':'产品细类编码',\n",
    "                                            'sales_chan_name':'销售渠道名称','item_price':'产品价格','ord_qty':'订单需求量'})\n",
    "#     data_second.columns=['订单日期','销售区域编码','产品编码','产品大类编码','产品细类编码','销售渠道名称','产品价格','订单需求量']\n",
    "    return data_second"
   ]
  },
  {
   "cell_type": "code",
   "execution_count": 4,
   "metadata": {},
   "outputs": [
    {
     "data": {
      "text/plain": [
       "订单日期      0\n",
       "销售区域编码    0\n",
       "产品编码      0\n",
       "产品大类编码    0\n",
       "产品细类编码    0\n",
       "销售渠道名称    0\n",
       "产品价格      0\n",
       "订单需求量     0\n",
       "dtype: int64"
      ]
     },
     "execution_count": 4,
     "metadata": {},
     "output_type": "execute_result"
    }
   ],
   "source": [
    "data_second = set_index(data_first)\n",
    "data_second.isna().sum()"
   ]
  },
  {
   "cell_type": "code",
   "execution_count": 5,
   "metadata": {},
   "outputs": [
    {
     "name": "stdout",
     "output_type": "stream",
     "text": [
      "<class 'pandas.core.frame.DataFrame'>\n",
      "Int64Index: 597382 entries, 0 to 597693\n",
      "Data columns (total 8 columns):\n",
      " #   Column  Non-Null Count   Dtype  \n",
      "---  ------  --------------   -----  \n",
      " 0   订单日期    597382 non-null  object \n",
      " 1   销售区域编码  597382 non-null  int64  \n",
      " 2   产品编码    597382 non-null  int64  \n",
      " 3   产品大类编码  597382 non-null  int64  \n",
      " 4   产品细类编码  597382 non-null  int64  \n",
      " 5   销售渠道名称  597382 non-null  object \n",
      " 6   产品价格    597382 non-null  float64\n",
      " 7   订单需求量   597382 non-null  int64  \n",
      "dtypes: float64(1), int64(5), object(2)\n",
      "memory usage: 41.0+ MB\n"
     ]
    }
   ],
   "source": [
    "data_second.info()"
   ]
  },
  {
   "cell_type": "code",
   "execution_count": 6,
   "metadata": {},
   "outputs": [
    {
     "name": "stdout",
     "output_type": "stream",
     "text": [
      "             订单日期  销售区域编码   产品编码  产品大类编码  产品细类编码  销售渠道名称    产品价格  季节  月时间段  \\\n",
      "0      2015-09-01     104  22069     307     403       0  1114.0   3     1   \n",
      "1      2015-09-01     104  20028     301     405       0  1012.0   3     1   \n",
      "2      2015-09-02     104  21183     307     403       1   428.0   3     1   \n",
      "3      2015-09-02     104  20448     308     404       1   962.0   3     1   \n",
      "4      2015-09-02     104  21565     307     403       0  1400.0   3     1   \n",
      "...           ...     ...    ...     ...     ...     ...     ...  ..   ...   \n",
      "597377 2018-12-20     102  20994     302     408       0   843.0   4     2   \n",
      "597378 2018-12-20     102  21875     302     408       0   762.0   4     2   \n",
      "597379 2018-12-20     102  20215     302     408       0  2013.0   4     2   \n",
      "597380 2018-12-20     102  20195     302     408       0  2120.0   4     2   \n",
      "597381 2018-12-20     102  20321     302     408       0  1244.0   4     2   \n",
      "\n",
      "        促销期  是否为节假日  year  month  day  订单需求量  \n",
      "0         0       0  2015      9    1     19  \n",
      "1         0       0  2015      9    1     12  \n",
      "2         0       0  2015      9    2    109  \n",
      "3         0       0  2015      9    2      3  \n",
      "4         0       0  2015      9    2      3  \n",
      "...     ...     ...   ...    ...  ...    ...  \n",
      "597377    0       0  2018     12   20     59  \n",
      "597378    0       0  2018     12   20    502  \n",
      "597379    0       0  2018     12   20    106  \n",
      "597380    0       0  2018     12   20    187  \n",
      "597381    0       0  2018     12   20    205  \n",
      "\n",
      "[597382 rows x 15 columns]\n"
     ]
    }
   ],
   "source": [
    "# 读取数据集\n",
    "data = data_second.copy(deep=True)\n",
    "\n",
    "# 将订单日期转换为datetime格式\n",
    "data['订单日期'] = pd.to_datetime(data['订单日期'], format='%Y/%m/%d')\n",
    "\n",
    "# 新增属性列“季节”\n",
    "data['季节'] = data['订单日期'].apply(lambda x: \n",
    "                                    1 if x.month in [3, 4, 5] \n",
    "                                    else (2 if x.month in [6, 7, 8] \n",
    "                                    else (3 if x.month in [9, 10, 11] \n",
    "                                    else 4)))\n",
    "\n",
    "# 新增属性列“月时间段”\n",
    "data['月时间段'] = data['订单日期'].apply(lambda x: \n",
    "                                1 if x.day <= 10 \n",
    "                                else (2 if x.day <= 20 \n",
    "                                else 3))\n",
    "\n",
    "# 是否为线上线下\n",
    "data['销售渠道名称'] = data['销售渠道名称'].apply(lambda x: \n",
    "                                1 if x == 'online' \n",
    "                                else 0 \n",
    "                                )\n",
    "\n",
    "#属性列 '促销期'\n",
    "data['促销期'] = 0\n",
    "for i in range(np.sort(list(set(data['订单日期'].dt.year)))[0],np.sort(list(set(data['订单日期'].dt.year)))[-1]+1):\n",
    "        data.loc[(data['订单日期'] >= '%d-03-01'%i) & (data['订单日期'] <= '%d-03-08'%i), '促销期'] = 38\n",
    "        data.loc[(data['订单日期'] >= '%d-06-01'%i) & (data['订单日期'] <= '%d-06-20'%i), '促销期'] = 618\n",
    "        data.loc[(data['订单日期'] >= '%d-10-01'%i) & (data['订单日期'] <= '%d-10-07'%i), '促销期'] = 101\n",
    "        data.loc[(data['订单日期'] >= '%d-11-01'%i) & (data['订单日期'] <= '%d-11-11'%i), '促销期'] = 1111\n",
    "        data.loc[(data['订单日期'] >= '%d-12-01'%i) & (data['订单日期'] <= '%d-12-12'%i), '促销期'] = 1212\n",
    "        data.loc[(data['订单日期'] >= '%d-12-24'%i) & (data['订单日期'] <= '%d-12-25'%i), '促销期'] = 1205\n",
    "        data.loc[(data['订单日期'] >= '%d-01-01'%i) & (data['订单日期'] <= '%d-02-10'%i), '促销期'] = 1\n",
    "\n",
    "#属性列 '是否为节假日'\n",
    "holidays = []\n",
    "for year in range(np.sort(list(set(data['订单日期'].dt.year)))[0], np.sort(list(set(data['订单日期'].dt.year)))[-1]+1):\n",
    "    holidays.append(pd.DataFrame({'订单日期': pd.date_range(start=str(year)+'-01-01', end=str(year)+'-12-31')}))\n",
    "holidays = pd.concat(holidays)\n",
    "holidays['is_holiday'] = holidays['订单日期'].apply(lambda x: not is_workday(x))\n",
    "holidays['is_holiday'] = holidays['is_holiday'].apply(lambda x: \n",
    "                                                     1 if x==True\n",
    "                                                     else (0))\n",
    "# 按照订单日期将数据集合并\n",
    "data = pd.merge(data, holidays, on='订单日期', how='left')\n",
    "data = data.rename(columns = {'is_holiday':'是否为节假日'})\n",
    "data['year']=data['订单日期'].dt.year\n",
    "data['month']=data['订单日期'].dt.month\n",
    "data['day']=data['订单日期'].dt.day\n",
    "cols = data.columns.tolist()\n",
    "cols.append(cols.pop(cols.index('订单需求量')))\n",
    "data = data.reindex(columns=cols)\n",
    "print(data)\n",
    "data.to_csv('./数据预处理后的文件.csv')\n",
    "# 输出结果\n"
   ]
  },
  {
   "cell_type": "code",
   "execution_count": 7,
   "metadata": {},
   "outputs": [
    {
     "data": {
      "text/plain": [
       "Index(['订单日期', '销售区域编码', '产品编码', '产品大类编码', '产品细类编码', '销售渠道名称', '产品价格', '季节',\n",
       "       '月时间段', '促销期', '是否为节假日', 'year', 'month', 'day', '订单需求量'],\n",
       "      dtype='object')"
      ]
     },
     "execution_count": 7,
     "metadata": {},
     "output_type": "execute_result"
    }
   ],
   "source": [
    "data.columns"
   ]
  },
  {
   "cell_type": "code",
   "execution_count": null,
   "metadata": {},
   "outputs": [],
   "source": []
  },
  {
   "cell_type": "code",
   "execution_count": null,
   "metadata": {},
   "outputs": [],
   "source": []
  }
 ],
 "metadata": {
  "kernelspec": {
   "display_name": "Python 3 (ipykernel)",
   "language": "python",
   "name": "python3"
  },
  "language_info": {
   "codemirror_mode": {
    "name": "ipython",
    "version": 3
   },
   "file_extension": ".py",
   "mimetype": "text/x-python",
   "name": "python",
   "nbconvert_exporter": "python",
   "pygments_lexer": "ipython3",
   "version": "3.9.13"
  }
 },
 "nbformat": 4,
 "nbformat_minor": 4
}
